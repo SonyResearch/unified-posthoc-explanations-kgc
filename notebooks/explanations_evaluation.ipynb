{
 "cells": [
  {
   "cell_type": "code",
   "execution_count": 2,
   "metadata": {},
   "outputs": [],
   "source": [
    "import os\n",
    "import pickle as pkl\n",
    "\n",
    "import matplotlib.pyplot as plt\n",
    "import numpy as np\n",
    "import seaborn as sns"
   ]
  },
  {
   "cell_type": "code",
   "execution_count": 3,
   "metadata": {},
   "outputs": [],
   "source": [
    "experiments_path = os.getcwd() + \"/../data/explainers-output/\""
   ]
  },
  {
   "cell_type": "code",
   "execution_count": 4,
   "metadata": {},
   "outputs": [],
   "source": [
    "# Figure layout\n",
    "custom_params = {\n",
    "    \"axes.spines.right\": True,\n",
    "    \"axes.spines.top\": True,\n",
    "    \"font.family\": \"serif\",\n",
    "    \"font.serif\": [\"Times New Roman\"],\n",
    "    \"text.usetex\": False,\n",
    "    \"text.latex.preamble\": r\"\\usepackage[T1]{fontenc}\",\n",
    "}\n",
    "sns.set_theme(style=\"ticks\", rc=custom_params)\n",
    "\n",
    "column_width = 3.25\n",
    "aspect_ratio = 1.2\n",
    "height = column_width / aspect_ratio"
   ]
  },
  {
   "cell_type": "code",
   "execution_count": 5,
   "metadata": {},
   "outputs": [],
   "source": [
    "# Load explanation length and ranks after retraining\n",
    "\n",
    "# Kelpie\n",
    "with open(experiments_path + \"len_fb15k237_complex_kelpie.pkl\", \"rb\") as handle:\n",
    "    len_kelpie = pkl.load(handle)\n",
    "with open(experiments_path + \"rank_fb15k237_complex_kelpie.pkl\", \"rb\") as handle:\n",
    "    rank_shift_kelpie = pkl.load(handle)\n",
    "    rank_shift_kelpie = np.array(rank_shift_kelpie)\n",
    "\n",
    "# Kelpie - K1\n",
    "with open(experiments_path + \"len_fb15k237_complex_k1.pkl\", \"rb\") as handle:\n",
    "    len_k1 = pkl.load(handle)\n",
    "with open(experiments_path + \"rank_fb15k237_complex_k1.pkl\", \"rb\") as handle:\n",
    "    rank_shift_k1 = pkl.load(handle)\n",
    "    rank_shift_k1 = np.array(rank_shift_k1)\n",
    "\n",
    "# Data Poisoning\n",
    "with open(experiments_path + \"len_fb15k237_complex_data_poisoning.pkl\", \"rb\") as handle:\n",
    "    len_data_poisoning = pkl.load(handle)\n",
    "with open(\n",
    "    experiments_path + \"rank_fb15k237_complex_data_poisoning.pkl\", \"rb\"\n",
    ") as handle:\n",
    "    rank_shift_data_poisoning = pkl.load(handle)\n",
    "    rank_shift_data_poisoning = np.array(rank_shift_data_poisoning)\n",
    "\n",
    "# CRIAGE\n",
    "with open(experiments_path + \"len_fb15k237_complex_criage.pkl\", \"rb\") as handle:\n",
    "    len_criage = pkl.load(handle)\n",
    "with open(experiments_path + \"rank_fb15k237_complex_criage.pkl\", \"rb\") as handle:\n",
    "    rank_shift_criage = pkl.load(handle)\n",
    "    rank_shift_criage = np.array(rank_shift_criage)\n",
    "\n",
    "# AnuBURL\n",
    "with open(experiments_path + \"len_fb15k237_complex_anyburl.pkl\", \"rb\") as handle:\n",
    "    len_anyburl = pkl.load(handle)\n",
    "with open(experiments_path + \"rank_fb15k237_complex_anyburl.pkl\", \"rb\") as handle:\n",
    "    rank_shift_anyburl = pkl.load(handle)\n",
    "    rank_shift_anyburl = np.array(rank_shift_anyburl)"
   ]
  },
  {
   "cell_type": "code",
   "execution_count": 6,
   "metadata": {},
   "outputs": [],
   "source": [
    "def get_avg_and_std(x):\n",
    "    avg_x = np.mean(x)\n",
    "    std_x = np.std(x)\n",
    "    return avg_x, std_x\n",
    "\n",
    "\n",
    "def get_avg(x):\n",
    "    avg_x = np.mean(x)\n",
    "    return avg_x"
   ]
  },
  {
   "cell_type": "code",
   "execution_count": 7,
   "metadata": {},
   "outputs": [],
   "source": [
    "# Compute mean and standard deviation of length and MRR\n",
    "\n",
    "avg_len_kelpie, std_len_kelpie = get_avg_and_std(len_kelpie)\n",
    "avg_mrr_kelpie = get_avg(1 / rank_shift_kelpie[:, 1])\n",
    "\n",
    "avg_len_k1, std_len_k1 = get_avg_and_std(len_k1)\n",
    "avg_mrr_k1 = get_avg(1 / rank_shift_k1[:, 1])\n",
    "\n",
    "avg_len_data_poisoning, std_len_data_poisoning = get_avg_and_std(len_data_poisoning)\n",
    "avg_mrr_data_poisoning = get_avg(1 / rank_shift_data_poisoning[:, 1])\n",
    "\n",
    "avg_len_criage, std_len_criage = get_avg_and_std(len_criage)\n",
    "avg_mrr_criage = get_avg(1 / rank_shift_criage[:, 1])\n",
    "\n",
    "avg_len_anyburl, std_len_anyburl = get_avg_and_std(len_criage)\n",
    "avg_mrr_anyburl = get_avg(1 / rank_shift_anyburl[:, 1])"
   ]
  },
  {
   "cell_type": "code",
   "execution_count": 8,
   "metadata": {},
   "outputs": [
    {
     "name": "stdout",
     "output_type": "stream",
     "text": [
      "Algorithm            Avg Length      Std Length      Avg MRR        \n",
      "======================================================================\n",
      "Kelpie               3.920           0.337           0.821          \n",
      "K1                   1.000           0.000           0.882          \n",
      "Data Poisoning       1.000           0.000           0.890          \n",
      "CRIAGE               1.000           0.000           0.973          \n",
      "AnyBURL              1.000           0.000           0.927          \n"
     ]
    }
   ],
   "source": [
    "print(f\"{'Algorithm':<20} {'Avg Length':<15} {'Std Length':<15} {'Avg MRR':<15}\")\n",
    "print(\"=\" * 70)\n",
    "print(\n",
    "    f\"{'Kelpie':<20} {avg_len_kelpie:<15.3f} {std_len_kelpie:<15.3f} {avg_mrr_kelpie:<15.3f}\"\n",
    ")\n",
    "print(f\"{'K1':<20} {avg_len_k1:<15.3f} {std_len_k1:<15.3f} {avg_mrr_k1:<15.3f}\")\n",
    "print(\n",
    "    f\"{'Data Poisoning':<20} {avg_len_data_poisoning:<15.3f} {std_len_data_poisoning:<15.3f} {avg_mrr_data_poisoning:<15.3f}\"\n",
    ")\n",
    "print(\n",
    "    f\"{'CRIAGE':<20} {avg_len_criage:<15.3f} {std_len_criage:<15.3f} {avg_mrr_criage:<15.3f}\"\n",
    ")\n",
    "print(\n",
    "    f\"{'AnyBURL':<20} {avg_len_anyburl:<15.3f} {std_len_anyburl:<15.3f} {avg_mrr_anyburl:<15.3f}\"\n",
    ")"
   ]
  },
  {
   "cell_type": "code",
   "execution_count": 9,
   "metadata": {},
   "outputs": [],
   "source": [
    "def compute_non_one_number(array):\n",
    "    return np.sum(array != 1) / len(array) * 50"
   ]
  },
  {
   "cell_type": "code",
   "execution_count": 10,
   "metadata": {},
   "outputs": [],
   "source": [
    "# Compute MRR != 1\n",
    "\n",
    "non_one = {\n",
    "    \"Kelpie\": compute_non_one_number(1 / rank_shift_kelpie[:, 1]),\n",
    "    \"K1\": compute_non_one_number(1 / rank_shift_k1[:, 1]),\n",
    "    \"Data Poisoning\": compute_non_one_number(1 / rank_shift_data_poisoning[:, 1]),\n",
    "    \"CRIAGE\": compute_non_one_number(1 / rank_shift_criage[:, 1]),\n",
    "    \"AnyBURL\": compute_non_one_number(1 / rank_shift_anyburl[:, 1]),\n",
    "}"
   ]
  },
  {
   "cell_type": "code",
   "execution_count": 11,
   "metadata": {},
   "outputs": [],
   "source": [
    "def compute_all_one_number(*ranks_all_methods):\n",
    "    ranks_all_methods_combined = np.array(ranks_all_methods).T\n",
    "    return np.sum(np.all(ranks_all_methods_combined == 1, axis=1))\n",
    "\n",
    "\n",
    "total_all_one = compute_all_one_number(\n",
    "    1 / rank_shift_kelpie[:, 1],\n",
    "    1 / rank_shift_k1[:, 1],\n",
    "    1 / rank_shift_data_poisoning[:, 1],\n",
    "    1 / rank_shift_criage[:, 1],\n",
    "    1 / rank_shift_anyburl[:, 1],\n",
    ")"
   ]
  },
  {
   "cell_type": "code",
   "execution_count": 12,
   "metadata": {},
   "outputs": [
    {
     "name": "stdout",
     "output_type": "stream",
     "text": [
      "Algorithm            N (out of 50)   %              \n",
      "=============================================\n",
      "Kelpie               14              28             \n",
      "K1                   11              22             \n",
      "Data Poisoning       10              20             \n",
      "CRIAGE               2               4              \n",
      "AnyBURL              7               14             \n",
      "Expl. across alg.    18              36             \n"
     ]
    }
   ],
   "source": [
    "print(f\"{'Algorithm':<20} {'N (out of 50)':<15} {'%':<15}\")\n",
    "print(\"=\" * 45)\n",
    "for method, fraction in non_one.items():\n",
    "    percentage = (fraction / 50) * 100\n",
    "    print(f\"{method:<20} {fraction:<15.0f} {percentage:<15.0f}\")\n",
    "print(\n",
    "    \"Expl. across alg.   \",\n",
    "    f\"{50 - total_all_one:<15.0f} {100 - total_all_one / 50 * 100:<15.0f}\",\n",
    ")"
   ]
  },
  {
   "cell_type": "code",
   "execution_count": 13,
   "metadata": {},
   "outputs": [],
   "source": [
    "# Compute Hits@1\n",
    "\n",
    "\n",
    "def compute_hits_at_1_stats(ranks):\n",
    "    hits_at_1 = (ranks == 1).astype(int)\n",
    "    avg_hits_at_1 = np.mean(hits_at_1)\n",
    "    return avg_hits_at_1\n",
    "\n",
    "\n",
    "avg_hits_kelpie = compute_hits_at_1_stats(rank_shift_kelpie[:, 1])\n",
    "avg_hits_k1 = compute_hits_at_1_stats(rank_shift_k1[:, 1])\n",
    "avg_hits_data_poisoning = compute_hits_at_1_stats(rank_shift_data_poisoning[:, 1])\n",
    "avg_hits_criage = compute_hits_at_1_stats(rank_shift_criage[:, 1])\n",
    "avg_hits_anyburl = compute_hits_at_1_stats(rank_shift_anyburl[:, 1])"
   ]
  },
  {
   "cell_type": "code",
   "execution_count": 14,
   "metadata": {},
   "outputs": [
    {
     "name": "stdout",
     "output_type": "stream",
     "text": [
      "Algorithm            Avg Hits@1     \n",
      "===================================\n",
      "Kelpie               0.720          \n",
      "K1                   0.780          \n",
      "Data Poisoning       0.800          \n",
      "CRIAGE               0.960          \n",
      "AnyBURL              0.860          \n"
     ]
    }
   ],
   "source": [
    "print(f\"{'Algorithm':<20} {'Avg Hits@1':<15}\")\n",
    "print(\"=\" * 35)\n",
    "print(f\"{'Kelpie':<20} {avg_hits_kelpie:<15.3f}\")\n",
    "print(f\"{'K1':<20} {avg_hits_k1:<15.3f}\")\n",
    "print(f\"{'Data Poisoning':<20} {avg_hits_data_poisoning:<15.3f}\")\n",
    "print(f\"{'CRIAGE':<20} {avg_hits_criage:<15.3f}\")\n",
    "print(f\"{'AnyBURL':<20} {avg_hits_anyburl:<15.3f}\")"
   ]
  },
  {
   "cell_type": "code",
   "execution_count": 15,
   "metadata": {},
   "outputs": [],
   "source": [
    "def lighten_color(color, amount=0.5):\n",
    "    import matplotlib.colors as mc\n",
    "    import colorsys\n",
    "\n",
    "    try:\n",
    "        c = mc.cnames[color]\n",
    "    except:\n",
    "        c = color\n",
    "    c = colorsys.rgb_to_hls(*mc.to_rgb(c))\n",
    "    return colorsys.hls_to_rgb(c[0], 1 - amount * (1 - c[1]), c[2])"
   ]
  },
  {
   "cell_type": "code",
   "execution_count": 16,
   "metadata": {},
   "outputs": [
    {
     "data": {
      "image/png": "[encoded data removed]",
      "text/plain": [
       "<Figure size 650x352.083 with 5 Axes>"
      ]
     },
     "metadata": {},
     "output_type": "display_data"
    }
   ],
   "source": [
    "# Plot barplot MRR != 1 for triples to explain\n",
    "\n",
    "fig, ax = plt.subplots(5, 1, figsize=(2 * column_width, 1.3 * height), sharex=True)\n",
    "plt.subplots_adjust(wspace=0.5, hspace=0.5)\n",
    "\n",
    "x_axis = np.arange(1, len(rank_shift_kelpie[:, 1]) + 1)\n",
    "bar_width = 0.96\n",
    "\n",
    "argsort_kelpie = np.argsort(rank_shift_kelpie)\n",
    "\n",
    "datasets = [\n",
    "    rank_shift_kelpie,\n",
    "    rank_shift_k1,\n",
    "    rank_shift_data_poisoning,\n",
    "    rank_shift_criage,\n",
    "    rank_shift_anyburl,\n",
    "]\n",
    "\n",
    "colors = [\"C0\", \"C1\", \"C2\", \"C3\", \"C4\"]\n",
    "method_names = [\"Kelpie\", \"K1\", \"Data Poisoning\", \"CRIAGE\", \"AnyBURL\"]\n",
    "\n",
    "for i in range(5):\n",
    "    y_values = 1 / datasets[i][:, 1]\n",
    "    bar_colors = []\n",
    "    for j, x in enumerate(x_axis):\n",
    "        all_ones = all(1 / datasets[k][:, 1][j] == 1 for k in range(5))\n",
    "        if all_ones:\n",
    "            bar_colors.append(\"silver\")\n",
    "        else:\n",
    "            bar_colors.append(colors[i])\n",
    "\n",
    "    edge_colors = [lighten_color(c, 1.2) for c in bar_colors]\n",
    "    ax[i].bar(\n",
    "        x_axis, y_values, color=bar_colors, width=bar_width, edgecolor=edge_colors\n",
    "    )\n",
    "\n",
    "    ax[i].set_xlim(0.5, 50.5)\n",
    "    ax[i].set_ylim(0, 1)\n",
    "    ax[i].set_xticks([1, 10, 20, 30, 40, 50])\n",
    "\n",
    "    if i == 2:\n",
    "        ax[i].set_ylabel(\"Reciprocal rank\", size=11)\n",
    "\n",
    "    ax[i].tick_params(axis=\"both\", width=1, direction=\"in\", length=4)\n",
    "\n",
    "    ax[i].text(\n",
    "        1,\n",
    "        1.2,\n",
    "        method_names[i],\n",
    "        rotation=0,\n",
    "        size=11,\n",
    "        ha=\"right\",\n",
    "        va=\"center\",\n",
    "        transform=ax[i].transAxes,\n",
    "        color=colors[i],\n",
    "    )\n",
    "\n",
    "    for spine in ax[i].spines.values():\n",
    "        spine.set_linewidth(1)\n",
    "\n",
    "plt.xlabel(\"Average explanation length\", size=11)\n",
    "plt.xlabel(\"Index triples to explain\", size=11)\n",
    "\n",
    "plt.savefig(\"../figures/barplot-MRR.pdf\", bbox_inches=\"tight\", pad_inches=0)\n",
    "plt.show()"
   ]
  },
  {
   "cell_type": "code",
   "execution_count": 17,
   "metadata": {},
   "outputs": [
    {
     "data": {
      "image/png": "[encoded data removed]",
      "text/plain": [
       "<Figure size 650x352.083 with 5 Axes>"
      ]
     },
     "metadata": {},
     "output_type": "display_data"
    }
   ],
   "source": [
    "# Plot barplot Ranks != 1 for triples to explain\n",
    "\n",
    "fig, ax = plt.subplots(5, 1, figsize=(2 * column_width, 1.3 * height), sharex=True)\n",
    "plt.subplots_adjust(wspace=0.5, hspace=0.5)\n",
    "\n",
    "x_axis = np.arange(1, len(rank_shift_kelpie[:, 1]) + 1)\n",
    "bar_width = 0.96\n",
    "\n",
    "argsort_kelpie = np.argsort(rank_shift_kelpie)\n",
    "\n",
    "datasets = [\n",
    "    rank_shift_kelpie,\n",
    "    rank_shift_k1,\n",
    "    rank_shift_data_poisoning,\n",
    "    rank_shift_criage,\n",
    "    rank_shift_anyburl,\n",
    "]\n",
    "\n",
    "colors = [\"C0\", \"C1\", \"C2\", \"C3\", \"C4\"]\n",
    "method_names = [\"Kelpie\", \"K1\", \"Data Poisoning\", \"CRIAGE\", \"AnyBURL\"]\n",
    "\n",
    "for i in range(5):\n",
    "    y_values = datasets[i][:, 1]\n",
    "    bar_colors = []\n",
    "    for j, x in enumerate(x_axis):\n",
    "        all_ones = all(1 / datasets[k][:, 1][j] == 1 for k in range(5))\n",
    "        if all_ones:\n",
    "            bar_colors.append(\"silver\")\n",
    "        else:\n",
    "            bar_colors.append(colors[i])\n",
    "\n",
    "    edge_colors = [lighten_color(c, 1.2) for c in bar_colors]\n",
    "    ax[i].bar(\n",
    "        x_axis, y_values, color=bar_colors, width=bar_width, edgecolor=edge_colors\n",
    "    )\n",
    "\n",
    "    ax[i].set_xlim(0.5, 50.5)\n",
    "    ax[i].set_ylim(0, 7)\n",
    "    ax[i].set_xticks([1, 10, 20, 30, 40, 50])\n",
    "\n",
    "    if i == 2:\n",
    "        ax[i].set_ylabel(\"Rank\", size=11)\n",
    "\n",
    "    ax[i].tick_params(axis=\"both\", width=1, direction=\"in\", length=4)\n",
    "\n",
    "    ax[i].text(\n",
    "        1,\n",
    "        1.2,\n",
    "        method_names[i],\n",
    "        rotation=0,\n",
    "        size=11,\n",
    "        ha=\"right\",\n",
    "        va=\"center\",\n",
    "        transform=ax[i].transAxes,\n",
    "        color=colors[i],\n",
    "    )\n",
    "\n",
    "    for spine in ax[i].spines.values():\n",
    "        spine.set_linewidth(1)\n",
    "\n",
    "    ax[i].grid(\n",
    "        True, which=\"both\", axis=\"y\", color=\"silver\", linestyle=\":\", linewidth=0.5\n",
    "    )\n",
    "\n",
    "plt.xlabel(\"Average explanation length\", size=11)\n",
    "plt.xlabel(\"Index triples to explain\", size=11)\n",
    "\n",
    "plt.savefig(\"../figures/barplot-MR.pdf\", bbox_inches=\"tight\", pad_inches=0)\n",
    "plt.show()"
   ]
  },
  {
   "cell_type": "code",
   "execution_count": 18,
   "metadata": {},
   "outputs": [],
   "source": [
    "avg_len_kelpie, std_len_kelpie = get_avg_and_std(np.array(len_kelpie))\n",
    "avg_rank_kelpie, std_rank_kelpie = get_avg_and_std(rank_shift_kelpie[:, 1])\n",
    "\n",
    "avg_len_k1, std_len_k1 = get_avg_and_std(len_k1)\n",
    "avg_rank_k1, std_rank_k1 = get_avg_and_std(rank_shift_k1[:, 1])\n",
    "\n",
    "avg_len_data_poisoning, std_len_data_poisoning = get_avg_and_std(len_data_poisoning)\n",
    "avg_rank_data_poisoning, std_rank_data_poisoning = get_avg_and_std(\n",
    "    rank_shift_data_poisoning[:, 1]\n",
    ")\n",
    "\n",
    "avg_len_criage, std_len_criage = get_avg_and_std(len_criage)\n",
    "avg_rank_criage, std_rank_criage = get_avg_and_std(rank_shift_criage[:, 1])\n",
    "\n",
    "avg_len_anyburl, std_len_anyburl = get_avg_and_std(len_criage)\n",
    "avg_rank_anyburl, std_rank_anyburl = get_avg_and_std(rank_shift_anyburl[:, 1])"
   ]
  },
  {
   "cell_type": "code",
   "execution_count": 19,
   "metadata": {},
   "outputs": [
    {
     "name": "stdout",
     "output_type": "stream",
     "text": [
      "Algorithm            Avg Length      Std Length      Avg Rank        Std Rank       \n",
      "================================================================================\n",
      "Kelpie               3.920           0.337           1.580           1.079          \n",
      "K1                   1.000           0.000           1.280           0.601          \n",
      "Data Poisoning       1.000           0.000           1.300           0.806          \n",
      "CRIAGE               1.000           0.000           1.140           0.849          \n",
      "AnyBURL              1.000           0.000           1.160           0.418          \n"
     ]
    }
   ],
   "source": [
    "print(\n",
    "    f\"{'Algorithm':<20} {'Avg Length':<15} {'Std Length':<15} {'Avg Rank':<15} {'Std Rank':<15}\"\n",
    ")\n",
    "print(\"=\" * 80)\n",
    "print(\n",
    "    f\"{'Kelpie':<20} {avg_len_kelpie:<15.3f} {std_len_kelpie:<15.3f} {avg_rank_kelpie:<15.3f} {std_rank_kelpie:<15.3f}\"\n",
    ")\n",
    "print(\n",
    "    f\"{'K1':<20} {avg_len_k1:<15.3f} {std_len_k1:<15.3f} {avg_rank_k1:<15.3f} {std_rank_k1:<15.3f}\"\n",
    ")\n",
    "print(\n",
    "    f\"{'Data Poisoning':<20} {avg_len_data_poisoning:<15.3f} {std_len_data_poisoning:<15.3f} {avg_rank_data_poisoning:<15.3f} {std_rank_data_poisoning:<15.3f}\"\n",
    ")\n",
    "print(\n",
    "    f\"{'CRIAGE':<20} {avg_len_criage:<15.3f} {std_len_criage:<15.3f} {avg_rank_criage:<15.3f} {std_rank_criage:<15.3f}\"\n",
    ")\n",
    "print(\n",
    "    f\"{'AnyBURL':<20} {avg_len_anyburl:<15.3f} {std_len_anyburl:<15.3f} {avg_rank_anyburl:<15.3f} {std_rank_anyburl:<15.3f}\"\n",
    ")"
   ]
  }
 ],
 "metadata": {
  "kernelspec": {
   "display_name": "unified-posthoc-explanations-kgc-6Mi2JbZn-py3.13",
   "language": "python",
   "name": "python3"
  },
  "language_info": {
   "codemirror_mode": {
    "name": "ipython",
    "version": 3
   },
   "file_extension": ".py",
   "mimetype": "text/x-python",
   "name": "python",
   "nbconvert_exporter": "python",
   "pygments_lexer": "ipython3",
   "version": "3.13.3"
  }
 },
 "nbformat": 4,
 "nbformat_minor": 2
}
